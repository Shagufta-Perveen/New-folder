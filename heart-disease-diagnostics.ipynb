{
 "cells": [
  {
   "cell_type": "code",
   "execution_count": 2,
   "id": "d0c6d3a1",
   "metadata": {
    "_cell_guid": "b1076dfc-b9ad-4769-8c92-a6c4dae69d19",
    "_uuid": "8f2839f25d086af736a60e9eeb907d3b93b6e0e5",
    "execution": {
     "iopub.execute_input": "2024-10-20T10:58:12.631906Z",
     "iopub.status.busy": "2024-10-20T10:58:12.631417Z",
     "iopub.status.idle": "2024-10-20T10:58:30.643710Z",
     "shell.execute_reply": "2024-10-20T10:58:30.642162Z"
    },
    "papermill": {
     "duration": 18.031607,
     "end_time": "2024-10-20T10:58:30.647288",
     "exception": false,
     "start_time": "2024-10-20T10:58:12.615681",
     "status": "completed"
    },
    "tags": []
   },
   "outputs": [],
   "source": [
    "import numpy as np\n",
    "import pandas as pd \n",
    "import matplotlib.pyplot as plt\n",
    "import seaborn as sns\n",
    "import warnings\n",
    "\n",
    "from sklearn.model_selection import train_test_split, GridSearchCV, cross_val_score\n",
    "from sklearn.metrics import classification_report, accuracy_score\n",
    "from sklearn.linear_model import LogisticRegression\n",
    "from sklearn.ensemble import StackingClassifier, GradientBoostingClassifier, RandomForestClassifier\n",
    "\n",
    "from sklearn.preprocessing import StandardScaler\n",
    "from tensorflow.keras.models import Sequential\n",
    "from tensorflow.keras.layers import Dense, Input\n",
    "from tensorflow.keras.utils import to_categorical\n",
    "\n",
    "from sklearn.model_selection import train_test_split\n",
    "from sklearn.preprocessing import StandardScaler\n",
    "\n",
    "from sklearn.svm import SVC\n",
    "from sklearn.neighbors import KNeighborsClassifier\n",
    "from sklearn.tree import DecisionTreeClassifier\n",
    "from sklearn.naive_bayes import GaussianNB\n",
    "\n",
    "from tensorflow.keras.layers import Dense, SimpleRNN, GRU, LSTM\n"
   ]
  },
  {
   "cell_type": "markdown",
   "id": "0c4a9217",
   "metadata": {
    "papermill": {
     "duration": 0.012598,
     "end_time": "2024-10-20T10:58:30.674182",
     "exception": false,
     "start_time": "2024-10-20T10:58:30.661584",
     "status": "completed"
    },
    "tags": []
   },
   "source": [
    "### Column Descriptions:\n",
    "\n",
    "+ age (Age of the patient in years)\n",
    "+ origin (place of study) - dataset\n",
    "+ sex (Male/Female)\n",
    "+ cp chest pain type ([typical angina, atypical angina, non-anginal, asymptomatic])\n",
    "+ trestbps resting blood pressure (resting blood pressure (in mm Hg on admission to the hospital))\n",
    "+ chol (serum cholesterol in mg/dl)\n",
    "+ fbs (if fasting blood sugar > 120 mg/dl)\n",
    "+ restecg (resting electrocardiographic results) -- Values: [normal, stt abnormality, lv hypertrophy]\n",
    "+ thalach: maximum heart rate achieved\n",
    "+ exang: exercise-induced angina (True/ False)\n",
    "+ oldpeak: ST depression induced by exercise relative to rest\n",
    "+ slope: the slope of the peak exercise ST segment\n",
    "+ ca: number of major vessels (0-3) colored by fluoroscopy\n",
    "+ thal: [normal; fixed defect; reversible defect]\n",
    "+ num: the predicted attribute"
   ]
  },
  {
   "cell_type": "code",
   "execution_count": 3,
   "id": "8ff8b03b",
   "metadata": {
    "execution": {
     "iopub.execute_input": "2024-10-20T10:58:30.703009Z",
     "iopub.status.busy": "2024-10-20T10:58:30.702240Z",
     "iopub.status.idle": "2024-10-20T10:58:30.708907Z",
     "shell.execute_reply": "2024-10-20T10:58:30.707581Z"
    },
    "papermill": {
     "duration": 0.023374,
     "end_time": "2024-10-20T10:58:30.711296",
     "exception": false,
     "start_time": "2024-10-20T10:58:30.687922",
     "status": "completed"
    },
    "tags": []
   },
   "outputs": [],
   "source": [
    "# Ignore specific warnings to keep the output clean\n",
    "\n",
    "warnings.filterwarnings(\"ignore\", category=RuntimeWarning, module=\"pandas.core.arrays.base\")\n",
    "warnings.simplefilter(action='ignore', category=FutureWarning)"
   ]
  },
  {
   "cell_type": "code",
   "execution_count": 4,
   "id": "a5f7f841",
   "metadata": {
    "execution": {
     "iopub.execute_input": "2024-10-20T10:58:30.740906Z",
     "iopub.status.busy": "2024-10-20T10:58:30.739695Z",
     "iopub.status.idle": "2024-10-20T10:58:30.772416Z",
     "shell.execute_reply": "2024-10-20T10:58:30.770817Z"
    },
    "papermill": {
     "duration": 0.050149,
     "end_time": "2024-10-20T10:58:30.775321",
     "exception": false,
     "start_time": "2024-10-20T10:58:30.725172",
     "status": "completed"
    },
    "tags": []
   },
   "outputs": [],
   "source": [
    "# Load the dataset\n",
    "df = pd.read_csv(\"heart_disease_uci.csv\")"
   ]
  },
  {
   "cell_type": "code",
   "execution_count": 5,
   "id": "4a9384a1",
   "metadata": {
    "execution": {
     "iopub.execute_input": "2024-10-20T10:58:30.803536Z",
     "iopub.status.busy": "2024-10-20T10:58:30.802715Z",
     "iopub.status.idle": "2024-10-20T10:58:30.808777Z",
     "shell.execute_reply": "2024-10-20T10:58:30.807650Z"
    },
    "papermill": {
     "duration": 0.022993,
     "end_time": "2024-10-20T10:58:30.811436",
     "exception": false,
     "start_time": "2024-10-20T10:58:30.788443",
     "status": "completed"
    },
    "tags": []
   },
   "outputs": [
    {
     "name": "stdout",
     "output_type": "stream",
     "text": [
      "Dataset length: 920\n"
     ]
    }
   ],
   "source": [
    "# check length\n",
    "print(\"Dataset length:\", len(df))"
   ]
  },
  {
   "cell_type": "code",
   "execution_count": 6,
   "id": "d698f3ac",
   "metadata": {
    "execution": {
     "iopub.execute_input": "2024-10-20T10:58:30.839200Z",
     "iopub.status.busy": "2024-10-20T10:58:30.838706Z",
     "iopub.status.idle": "2024-10-20T10:58:30.873826Z",
     "shell.execute_reply": "2024-10-20T10:58:30.872670Z"
    },
    "papermill": {
     "duration": 0.052135,
     "end_time": "2024-10-20T10:58:30.876543",
     "exception": false,
     "start_time": "2024-10-20T10:58:30.824408",
     "status": "completed"
    },
    "tags": []
   },
   "outputs": [
    {
     "data": {
      "text/html": [
       "<div>\n",
       "<style scoped>\n",
       "    .dataframe tbody tr th:only-of-type {\n",
       "        vertical-align: middle;\n",
       "    }\n",
       "\n",
       "    .dataframe tbody tr th {\n",
       "        vertical-align: top;\n",
       "    }\n",
       "\n",
       "    .dataframe thead th {\n",
       "        text-align: right;\n",
       "    }\n",
       "</style>\n",
       "<table border=\"1\" class=\"dataframe\">\n",
       "  <thead>\n",
       "    <tr style=\"text-align: right;\">\n",
       "      <th></th>\n",
       "      <th>id</th>\n",
       "      <th>age</th>\n",
       "      <th>sex</th>\n",
       "      <th>dataset</th>\n",
       "      <th>cp</th>\n",
       "      <th>trestbps</th>\n",
       "      <th>chol</th>\n",
       "      <th>fbs</th>\n",
       "      <th>restecg</th>\n",
       "      <th>thalch</th>\n",
       "      <th>exang</th>\n",
       "      <th>oldpeak</th>\n",
       "      <th>slope</th>\n",
       "      <th>ca</th>\n",
       "      <th>thal</th>\n",
       "      <th>num</th>\n",
       "    </tr>\n",
       "  </thead>\n",
       "  <tbody>\n",
       "    <tr>\n",
       "      <th>0</th>\n",
       "      <td>1</td>\n",
       "      <td>63</td>\n",
       "      <td>Male</td>\n",
       "      <td>Cleveland</td>\n",
       "      <td>typical angina</td>\n",
       "      <td>145.0</td>\n",
       "      <td>233.0</td>\n",
       "      <td>True</td>\n",
       "      <td>lv hypertrophy</td>\n",
       "      <td>150.0</td>\n",
       "      <td>False</td>\n",
       "      <td>2.3</td>\n",
       "      <td>downsloping</td>\n",
       "      <td>0.0</td>\n",
       "      <td>fixed defect</td>\n",
       "      <td>0</td>\n",
       "    </tr>\n",
       "    <tr>\n",
       "      <th>1</th>\n",
       "      <td>2</td>\n",
       "      <td>67</td>\n",
       "      <td>Male</td>\n",
       "      <td>Cleveland</td>\n",
       "      <td>asymptomatic</td>\n",
       "      <td>160.0</td>\n",
       "      <td>286.0</td>\n",
       "      <td>False</td>\n",
       "      <td>lv hypertrophy</td>\n",
       "      <td>108.0</td>\n",
       "      <td>True</td>\n",
       "      <td>1.5</td>\n",
       "      <td>flat</td>\n",
       "      <td>3.0</td>\n",
       "      <td>normal</td>\n",
       "      <td>2</td>\n",
       "    </tr>\n",
       "    <tr>\n",
       "      <th>2</th>\n",
       "      <td>3</td>\n",
       "      <td>67</td>\n",
       "      <td>Male</td>\n",
       "      <td>Cleveland</td>\n",
       "      <td>asymptomatic</td>\n",
       "      <td>120.0</td>\n",
       "      <td>229.0</td>\n",
       "      <td>False</td>\n",
       "      <td>lv hypertrophy</td>\n",
       "      <td>129.0</td>\n",
       "      <td>True</td>\n",
       "      <td>2.6</td>\n",
       "      <td>flat</td>\n",
       "      <td>2.0</td>\n",
       "      <td>reversable defect</td>\n",
       "      <td>1</td>\n",
       "    </tr>\n",
       "    <tr>\n",
       "      <th>3</th>\n",
       "      <td>4</td>\n",
       "      <td>37</td>\n",
       "      <td>Male</td>\n",
       "      <td>Cleveland</td>\n",
       "      <td>non-anginal</td>\n",
       "      <td>130.0</td>\n",
       "      <td>250.0</td>\n",
       "      <td>False</td>\n",
       "      <td>normal</td>\n",
       "      <td>187.0</td>\n",
       "      <td>False</td>\n",
       "      <td>3.5</td>\n",
       "      <td>downsloping</td>\n",
       "      <td>0.0</td>\n",
       "      <td>normal</td>\n",
       "      <td>0</td>\n",
       "    </tr>\n",
       "    <tr>\n",
       "      <th>4</th>\n",
       "      <td>5</td>\n",
       "      <td>41</td>\n",
       "      <td>Female</td>\n",
       "      <td>Cleveland</td>\n",
       "      <td>atypical angina</td>\n",
       "      <td>130.0</td>\n",
       "      <td>204.0</td>\n",
       "      <td>False</td>\n",
       "      <td>lv hypertrophy</td>\n",
       "      <td>172.0</td>\n",
       "      <td>False</td>\n",
       "      <td>1.4</td>\n",
       "      <td>upsloping</td>\n",
       "      <td>0.0</td>\n",
       "      <td>normal</td>\n",
       "      <td>0</td>\n",
       "    </tr>\n",
       "  </tbody>\n",
       "</table>\n",
       "</div>"
      ],
      "text/plain": [
       "   id  age     sex    dataset               cp  trestbps   chol    fbs  \\\n",
       "0   1   63    Male  Cleveland   typical angina     145.0  233.0   True   \n",
       "1   2   67    Male  Cleveland     asymptomatic     160.0  286.0  False   \n",
       "2   3   67    Male  Cleveland     asymptomatic     120.0  229.0  False   \n",
       "3   4   37    Male  Cleveland      non-anginal     130.0  250.0  False   \n",
       "4   5   41  Female  Cleveland  atypical angina     130.0  204.0  False   \n",
       "\n",
       "          restecg  thalch  exang  oldpeak        slope   ca  \\\n",
       "0  lv hypertrophy   150.0  False      2.3  downsloping  0.0   \n",
       "1  lv hypertrophy   108.0   True      1.5         flat  3.0   \n",
       "2  lv hypertrophy   129.0   True      2.6         flat  2.0   \n",
       "3          normal   187.0  False      3.5  downsloping  0.0   \n",
       "4  lv hypertrophy   172.0  False      1.4    upsloping  0.0   \n",
       "\n",
       "                thal  num  \n",
       "0       fixed defect    0  \n",
       "1             normal    2  \n",
       "2  reversable defect    1  \n",
       "3             normal    0  \n",
       "4             normal    0  "
      ]
     },
     "execution_count": 6,
     "metadata": {},
     "output_type": "execute_result"
    }
   ],
   "source": [
    "# check df\n",
    "df.head()"
   ]
  },
  {
   "cell_type": "code",
   "execution_count": 7,
   "id": "808dda3c",
   "metadata": {
    "execution": {
     "iopub.execute_input": "2024-10-20T10:58:30.905124Z",
     "iopub.status.busy": "2024-10-20T10:58:30.904171Z",
     "iopub.status.idle": "2024-10-20T10:58:31.166411Z",
     "shell.execute_reply": "2024-10-20T10:58:31.164871Z"
    },
    "papermill": {
     "duration": 0.281113,
     "end_time": "2024-10-20T10:58:31.170991",
     "exception": false,
     "start_time": "2024-10-20T10:58:30.889878",
     "status": "completed"
    },
    "tags": []
   },
   "outputs": [
    {
     "data": {
      "image/png": "[encoded data removed]",
      "text/plain": [
       "<Figure size 800x500 with 1 Axes>"
      ]
     },
     "metadata": {},
     "output_type": "display_data"
    }
   ],
   "source": [
    "# Plot the distribution of the target variable 'num'\n",
    "\n",
    "plt.figure(figsize=(8, 5))\n",
    "df['num'].value_counts().plot(kind='pie', autopct='%1.1f%%', startangle=90, colors=['#0d60a3'])\n",
    "plt.title('Distribution of Target Variable (num)')\n",
    "plt.ylabel('')\n",
    "plt.show()"
   ]
  },
  {
   "cell_type": "code",
   "execution_count": 8,
   "id": "59598c08",
   "metadata": {
    "execution": {
     "iopub.execute_input": "2024-10-20T10:58:31.211599Z",
     "iopub.status.busy": "2024-10-20T10:58:31.211146Z",
     "iopub.status.idle": "2024-10-20T10:58:31.218308Z",
     "shell.execute_reply": "2024-10-20T10:58:31.217091Z"
    },
    "papermill": {
     "duration": 0.024538,
     "end_time": "2024-10-20T10:58:31.220703",
     "exception": false,
     "start_time": "2024-10-20T10:58:31.196165",
     "status": "completed"
    },
    "tags": []
   },
   "outputs": [
    {
     "name": "stdout",
     "output_type": "stream",
     "text": [
      "Class distribution:\n",
      " num\n",
      "0    411\n",
      "1    265\n",
      "2    109\n",
      "3    107\n",
      "4     28\n",
      "Name: count, dtype: int64\n"
     ]
    }
   ],
   "source": [
    "# Display class distribution\n",
    "\n",
    "class_distribution = df['num'].value_counts()\n",
    "print(\"Class distribution:\\n\", class_distribution)"
   ]
  },
  {
   "cell_type": "code",
   "execution_count": 9,
   "id": "f09f2afa",
   "metadata": {
    "execution": {
     "iopub.execute_input": "2024-10-20T10:58:31.251923Z",
     "iopub.status.busy": "2024-10-20T10:58:31.251457Z",
     "iopub.status.idle": "2024-10-20T10:58:31.261262Z",
     "shell.execute_reply": "2024-10-20T10:58:31.260044Z"
    },
    "papermill": {
     "duration": 0.028876,
     "end_time": "2024-10-20T10:58:31.263923",
     "exception": false,
     "start_time": "2024-10-20T10:58:31.235047",
     "status": "completed"
    },
    "tags": []
   },
   "outputs": [],
   "source": [
    "# Function to augment data for a specific class label\n",
    "\n",
    "def augment_data(df, class_label, n_augmentations=3):\n",
    "    df_class = df[df['num'] == class_label]\n",
    "    augmented_data = []\n",
    "    \n",
    "    for _ in range(n_augmentations):\n",
    "        df_aug = df_class.copy()\n",
    "        \n",
    "        # Add random noise to specific columns\n",
    "        df_aug['age'] = df_aug['age'] + np.random.randint(-3, 4, df_aug.shape[0])\n",
    "        df_aug['trestbps'] = df_aug['trestbps'] + np.random.randint(-3, 4, df_aug.shape[0])\n",
    "        df_aug['chol'] = df_aug['chol'] + np.random.randint(-3, 4, df_aug.shape[0])\n",
    "        df_aug['thalch'] = df_aug['thalch'] + np.random.randint(-3, 4, df_aug.shape[0])\n",
    "        \n",
    "        augmented_data.append(df_aug)\n",
    "    \n",
    "    return pd.concat(augmented_data)"
   ]
  },
  {
   "cell_type": "code",
   "execution_count": 12,
   "id": "1f9c9375",
   "metadata": {
    "execution": {
     "iopub.execute_input": "2024-10-20T10:58:31.430603Z",
     "iopub.status.busy": "2024-10-20T10:58:31.430148Z",
     "iopub.status.idle": "2024-10-20T10:58:31.577715Z",
     "shell.execute_reply": "2024-10-20T10:58:31.576367Z"
    },
    "papermill": {
     "duration": 0.167936,
     "end_time": "2024-10-20T10:58:31.582402",
     "exception": false,
     "start_time": "2024-10-20T10:58:31.414466",
     "status": "completed"
    },
    "tags": []
   },
   "outputs": [
    {
     "data": {
      "image/png": "[encoded data removed]",
      "text/plain": [
       "<Figure size 800x500 with 1 Axes>"
      ]
     },
     "metadata": {},
     "output_type": "display_data"
    }
   ],
   "source": [
    "# Plot the updated distribution of the target variable\n",
    "\n",
    "plt.figure(figsize=(8, 5))\n",
    "df['num'].value_counts().plot(kind='pie', autopct='%1.1f%%', startangle=90, colors=['#1c5e94'])\n",
    "plt.title('Updated Distribution of Target Variable (num)')\n",
    "plt.ylabel('')\n",
    "plt.show()"
   ]
  },
  {
   "cell_type": "code",
   "execution_count": 13,
   "id": "857248ff",
   "metadata": {
    "execution": {
     "iopub.execute_input": "2024-10-20T10:58:31.646659Z",
     "iopub.status.busy": "2024-10-20T10:58:31.645263Z",
     "iopub.status.idle": "2024-10-20T10:58:31.654185Z",
     "shell.execute_reply": "2024-10-20T10:58:31.652616Z"
    },
    "papermill": {
     "duration": 0.044667,
     "end_time": "2024-10-20T10:58:31.657087",
     "exception": false,
     "start_time": "2024-10-20T10:58:31.612420",
     "status": "completed"
    },
    "tags": []
   },
   "outputs": [
    {
     "name": "stdout",
     "output_type": "stream",
     "text": [
      "Dataset length: 920\n"
     ]
    }
   ],
   "source": [
    "# check length\n",
    "print(\"Dataset length:\", len(df))"
   ]
  },
  {
   "cell_type": "code",
   "execution_count": 14,
   "id": "acc70923",
   "metadata": {
    "execution": {
     "iopub.execute_input": "2024-10-20T10:58:31.688825Z",
     "iopub.status.busy": "2024-10-20T10:58:31.688386Z",
     "iopub.status.idle": "2024-10-20T10:58:31.698540Z",
     "shell.execute_reply": "2024-10-20T10:58:31.697376Z"
    },
    "papermill": {
     "duration": 0.028578,
     "end_time": "2024-10-20T10:58:31.700953",
     "exception": false,
     "start_time": "2024-10-20T10:58:31.672375",
     "status": "completed"
    },
    "tags": []
   },
   "outputs": [
    {
     "data": {
      "text/plain": [
       "array(['Cleveland', 'Hungary', 'Switzerland', 'VA Long Beach'],\n",
       "      dtype=object)"
      ]
     },
     "execution_count": 14,
     "metadata": {},
     "output_type": "execute_result"
    }
   ],
   "source": [
    "# check unique values\n",
    "df['dataset'].unique()"
   ]
  },
  {
   "cell_type": "code",
   "execution_count": 15,
   "id": "d5afd397",
   "metadata": {
    "execution": {
     "iopub.execute_input": "2024-10-20T10:58:31.734098Z",
     "iopub.status.busy": "2024-10-20T10:58:31.733653Z",
     "iopub.status.idle": "2024-10-20T10:58:31.746450Z",
     "shell.execute_reply": "2024-10-20T10:58:31.745227Z"
    },
    "papermill": {
     "duration": 0.033289,
     "end_time": "2024-10-20T10:58:31.749067",
     "exception": false,
     "start_time": "2024-10-20T10:58:31.715778",
     "status": "completed"
    },
    "tags": []
   },
   "outputs": [
    {
     "data": {
      "text/plain": [
       "id            0\n",
       "age           0\n",
       "sex           0\n",
       "dataset       0\n",
       "cp            0\n",
       "trestbps     59\n",
       "chol         30\n",
       "fbs          90\n",
       "restecg       2\n",
       "thalch       55\n",
       "exang        55\n",
       "oldpeak      62\n",
       "slope       309\n",
       "ca          611\n",
       "thal        486\n",
       "num           0\n",
       "dtype: int64"
      ]
     },
     "execution_count": 15,
     "metadata": {},
     "output_type": "execute_result"
    }
   ],
   "source": [
    "# check nans\n",
    "df.isnull().sum()"
   ]
  },
  {
   "cell_type": "code",
   "execution_count": 16,
   "id": "0c7b309e",
   "metadata": {
    "execution": {
     "iopub.execute_input": "2024-10-20T10:58:31.781705Z",
     "iopub.status.busy": "2024-10-20T10:58:31.781108Z",
     "iopub.status.idle": "2024-10-20T10:58:31.788880Z",
     "shell.execute_reply": "2024-10-20T10:58:31.787679Z"
    },
    "papermill": {
     "duration": 0.027335,
     "end_time": "2024-10-20T10:58:31.791428",
     "exception": false,
     "start_time": "2024-10-20T10:58:31.764093",
     "status": "completed"
    },
    "tags": []
   },
   "outputs": [],
   "source": [
    "\n",
    "# Data cleaning and preprocessing\n",
    "df.drop(['id'], axis=1, inplace=True)"
   ]
  },
  {
   "cell_type": "code",
   "execution_count": 17,
   "id": "1ab82212",
   "metadata": {
    "execution": {
     "iopub.execute_input": "2024-10-20T10:58:31.823566Z",
     "iopub.status.busy": "2024-10-20T10:58:31.822728Z",
     "iopub.status.idle": "2024-10-20T10:58:31.846669Z",
     "shell.execute_reply": "2024-10-20T10:58:31.845410Z"
    },
    "papermill": {
     "duration": 0.043064,
     "end_time": "2024-10-20T10:58:31.849276",
     "exception": false,
     "start_time": "2024-10-20T10:58:31.806212",
     "status": "completed"
    },
    "tags": []
   },
   "outputs": [],
   "source": [
    "# Replace categorical labels with numerical ones\n",
    "\n",
    "df['dataset'] = df['dataset'].map({\n",
    "    'Cleveland': 1,\n",
    "    'Hungary': 2,\n",
    "    'Switzerland': 3,\n",
    "    'VA Long Beach': 4\n",
    "})\n",
    "\n",
    "df['sex'] = df['sex'].map({'Male': 1, 'Female': 0})\n",
    "\n",
    "df['cp'] = df['cp'].map({\n",
    "    'typical angina': 1,\n",
    "    'atypical angina': 2,\n",
    "    'non-anginal': 3,\n",
    "    'asymptomatic': 4\n",
    "})\n",
    "\n",
    "df['restecg'] = df['restecg'].map({\n",
    "    'normal': 0,\n",
    "    'stt abnormality': 1,\n",
    "    'lv hypertrophy': 2\n",
    "})\n",
    "\n",
    "df['fbs'] = df['fbs'].map({1: 1, 0: 0})\n",
    "df['exang'] = df['exang'].map({1: 1, 0: 0})\n",
    "df['slope'] = df['slope'].map({'downsloping': 1, 'flat': 2, 'upsloping': 3})\n",
    "df['thal'] = df['thal'].map({'normal': 1, 'fixed defect': 2, 'reversible defect': 3})"
   ]
  },
  {
   "cell_type": "code",
   "execution_count": 18,
   "id": "28894874",
   "metadata": {
    "execution": {
     "iopub.execute_input": "2024-10-20T10:58:31.881066Z",
     "iopub.status.busy": "2024-10-20T10:58:31.880605Z",
     "iopub.status.idle": "2024-10-20T10:58:31.944993Z",
     "shell.execute_reply": "2024-10-20T10:58:31.943407Z"
    },
    "papermill": {
     "duration": 0.083501,
     "end_time": "2024-10-20T10:58:31.947821",
     "exception": false,
     "start_time": "2024-10-20T10:58:31.864320",
     "status": "completed"
    },
    "tags": []
   },
   "outputs": [],
   "source": [
    "# Fill missing values based on group means/modes\n",
    "\n",
    "df['trestbps'] = df.groupby('num')['trestbps'].transform(lambda x: x.fillna(x.mean()))\n",
    "df['chol'] = df.groupby('num')['chol'].transform(lambda x: x.fillna(x.mean()))\n",
    "df['thalch'] = df.groupby('num')['thalch'].transform(lambda x: x.fillna(x.mean()))\n",
    "df['oldpeak'] = df.groupby('num')['oldpeak'].transform(lambda x: x.fillna(x.mean()))\n",
    "df['fbs'] = df.groupby('num')['fbs'].transform(lambda x: x.fillna(x.mode()[0] if not x.mode().empty else 0))\n",
    "df['restecg'] = df.groupby('num')['restecg'].transform(lambda x: x.fillna(x.mode()[0] if not x.mode().empty else 0))\n",
    "df['exang'] = df.groupby('num')['exang'].transform(lambda x: x.fillna(x.mode()[0] if not x.mode().empty else 0))\n",
    "df['slope'] = df.groupby('num')['slope'].transform(lambda x: x.fillna(x.mode()[0] if not x.mode().empty else 0))\n",
    "df['thal'] = df.groupby('num')['thal'].transform(lambda x: x.fillna(x.mode()[0] if not x.mode().empty else 0))\n",
    "df['ca'] = df.groupby('num')['ca'].transform(lambda x: x.fillna(x.mode()[0] if not x.mode().empty else 0))"
   ]
  },
  {
   "cell_type": "code",
   "execution_count": 19,
   "id": "cc6caae2",
   "metadata": {
    "execution": {
     "iopub.execute_input": "2024-10-20T10:58:31.979866Z",
     "iopub.status.busy": "2024-10-20T10:58:31.979383Z",
     "iopub.status.idle": "2024-10-20T10:58:31.989689Z",
     "shell.execute_reply": "2024-10-20T10:58:31.988573Z"
    },
    "papermill": {
     "duration": 0.028904,
     "end_time": "2024-10-20T10:58:31.992119",
     "exception": false,
     "start_time": "2024-10-20T10:58:31.963215",
     "status": "completed"
    },
    "tags": []
   },
   "outputs": [],
   "source": [
    "# Convert columns to integers after filling missing values\n",
    "\n",
    "df['fbs'] = df['fbs'].astype(int)\n",
    "df['restecg'] = df['restecg'].astype(int)\n",
    "df['exang'] = df['exang'].astype(int)\n",
    "df['slope'] = df['slope'].astype(int)\n",
    "df['ca'] = df['ca'].astype(int)\n",
    "df['thal'] = df['thal'].astype(int)"
   ]
  },
  {
   "cell_type": "code",
   "execution_count": 20,
   "id": "bb36211c",
   "metadata": {
    "execution": {
     "iopub.execute_input": "2024-10-20T10:58:32.023536Z",
     "iopub.status.busy": "2024-10-20T10:58:32.023052Z",
     "iopub.status.idle": "2024-10-20T10:58:32.034103Z",
     "shell.execute_reply": "2024-10-20T10:58:32.032945Z"
    },
    "papermill": {
     "duration": 0.029745,
     "end_time": "2024-10-20T10:58:32.036797",
     "exception": false,
     "start_time": "2024-10-20T10:58:32.007052",
     "status": "completed"
    },
    "tags": []
   },
   "outputs": [
    {
     "data": {
      "text/plain": [
       "age         0\n",
       "sex         0\n",
       "dataset     0\n",
       "cp          0\n",
       "trestbps    0\n",
       "chol        0\n",
       "fbs         0\n",
       "restecg     0\n",
       "thalch      0\n",
       "exang       0\n",
       "oldpeak     0\n",
       "slope       0\n",
       "ca          0\n",
       "thal        0\n",
       "num         0\n",
       "dtype: int64"
      ]
     },
     "execution_count": 20,
     "metadata": {},
     "output_type": "execute_result"
    }
   ],
   "source": [
    "# check nans\n",
    "df.isnull().sum()"
   ]
  },
  {
   "cell_type": "code",
   "execution_count": 21,
   "id": "0cd82020",
   "metadata": {
    "execution": {
     "iopub.execute_input": "2024-10-20T10:58:32.070795Z",
     "iopub.status.busy": "2024-10-20T10:58:32.069848Z",
     "iopub.status.idle": "2024-10-20T10:58:37.766895Z",
     "shell.execute_reply": "2024-10-20T10:58:37.765536Z"
    },
    "papermill": {
     "duration": 5.718887,
     "end_time": "2024-10-20T10:58:37.771143",
     "exception": false,
     "start_time": "2024-10-20T10:58:32.052256",
     "status": "completed"
    },
    "tags": []
   },
   "outputs": [
    {
     "data": {
      "image/png": "[encoded data removed]",
      "text/plain": [
       "<Figure size 1200x1500 with 5 Axes>"
      ]
     },
     "metadata": {},
     "output_type": "display_data"
    }
   ],
   "source": [
    "# Visualize feature distributions\n",
    "\n",
    "fig, axs = plt.subplots(3, 2, figsize=(12, 15))\n",
    "\n",
    "sns.countplot(x='age', data=df, ax=axs[0, 0])\n",
    "axs[0, 0].set_title('Age Count Plot')\n",
    "axs[0, 0].tick_params(axis='x', rotation=90, labelsize=7)\n",
    "\n",
    "sns.countplot(x='trestbps', data=df, ax=axs[0, 1])\n",
    "axs[0, 1].set_title('Resting Blood Pressure Count Plot')\n",
    "axs[0, 1].set_xticklabels([])\n",
    "\n",
    "sns.countplot(x='chol', data=df, ax=axs[1, 0])\n",
    "axs[1, 0].set_title('Cholesterol Count Plot')\n",
    "axs[1, 0].set_xticklabels([])\n",
    "\n",
    "sns.countplot(x='thalch', data=df, ax=axs[1, 1])\n",
    "axs[1, 1].set_title('Max Heart Rate Achieved Count Plot')\n",
    "axs[1, 1].set_xticklabels([])\n",
    "\n",
    "sns.countplot(x='oldpeak', data=df, ax=axs[2, 0])\n",
    "axs[2, 0].set_title('Oldpeak Count Plot')\n",
    "axs[2, 0].set_xticklabels([])\n",
    "\n",
    "fig.delaxes(axs[2, 1])\n",
    "\n",
    "plt.tight_layout()\n",
    "plt.show()"
   ]
  },
  {
   "cell_type": "code",
   "execution_count": 22,
   "id": "3153553b",
   "metadata": {
    "execution": {
     "iopub.execute_input": "2024-10-20T10:58:37.807992Z",
     "iopub.status.busy": "2024-10-20T10:58:37.806984Z",
     "iopub.status.idle": "2024-10-20T10:58:37.820882Z",
     "shell.execute_reply": "2024-10-20T10:58:37.819288Z"
    },
    "papermill": {
     "duration": 0.035341,
     "end_time": "2024-10-20T10:58:37.824351",
     "exception": false,
     "start_time": "2024-10-20T10:58:37.789010",
     "status": "completed"
    },
    "tags": []
   },
   "outputs": [
    {
     "data": {
      "text/plain": [
       "627      0.0\n",
       "788      0.0\n",
       "718      0.0\n",
       "787      0.0\n",
       "676      0.0\n",
       "       ...  \n",
       "584    491.0\n",
       "568    518.0\n",
       "528    529.0\n",
       "152    564.0\n",
       "546    603.0\n",
       "Name: chol, Length: 920, dtype: float64"
      ]
     },
     "execution_count": 22,
     "metadata": {},
     "output_type": "execute_result"
    }
   ],
   "source": [
    "df['chol'].dropna().sort_values()"
   ]
  },
  {
   "cell_type": "code",
   "execution_count": 23,
   "id": "ce1ea64f",
   "metadata": {
    "execution": {
     "iopub.execute_input": "2024-10-20T10:58:37.872013Z",
     "iopub.status.busy": "2024-10-20T10:58:37.871010Z",
     "iopub.status.idle": "2024-10-20T10:58:37.895774Z",
     "shell.execute_reply": "2024-10-20T10:58:37.894177Z"
    },
    "papermill": {
     "duration": 0.049229,
     "end_time": "2024-10-20T10:58:37.898591",
     "exception": false,
     "start_time": "2024-10-20T10:58:37.849362",
     "status": "completed"
    },
    "tags": []
   },
   "outputs": [],
   "source": [
    "# Create bins for continuous variables for easier interpretation\n",
    "\n",
    "df['age'] = pd.cut(df['age'], bins=[0, 30, 40, 50, 60, 100], labels=[1, 2, 3, 4, 5])\n",
    "df['trestbps'] = pd.cut(df['trestbps'], bins=[-4, 120, 130, 140, 150, 204], labels=[1, 2, 3, 4, 5])\n",
    "df['chol'] = pd.cut(df['chol'], bins=[-4, 200, 240, 300, 350, 400, 500, 600, 607], labels=[1, 2, 3, 4, 5, 6, 7, 8])\n",
    "df['thalch'] = pd.cut(df['thalch'], bins=[50, 100, 140, 160, 180, 220], labels=[1, 2, 3, 4, 5])\n",
    "df['oldpeak'] = pd.cut(df['oldpeak'], bins=[-3, -2, 0, 2, 4, 7], labels=[1, 2, 3, 4, 5])"
   ]
  },
  {
   "cell_type": "code",
   "execution_count": 24,
   "id": "e80eee43",
   "metadata": {
    "execution": {
     "iopub.execute_input": "2024-10-20T10:58:37.933391Z",
     "iopub.status.busy": "2024-10-20T10:58:37.932952Z",
     "iopub.status.idle": "2024-10-20T10:58:39.330821Z",
     "shell.execute_reply": "2024-10-20T10:58:39.329590Z"
    },
    "papermill": {
     "duration": 1.418817,
     "end_time": "2024-10-20T10:58:39.333831",
     "exception": false,
     "start_time": "2024-10-20T10:58:37.915014",
     "status": "completed"
    },
    "tags": []
   },
   "outputs": [
    {
     "data": {
      "image/png": "[encoded data removed]",
      "text/plain": [
       "<Figure size 1200x1500 with 5 Axes>"
      ]
     },
     "metadata": {},
     "output_type": "display_data"
    }
   ],
   "source": [
    "# Re-plot the binned features\n",
    "\n",
    "fig, axs = plt.subplots(3, 2, figsize=(12, 15))\n",
    "\n",
    "sns.countplot(x='age', data=df, ax=axs[0, 0])\n",
    "axs[0, 0].set_title('Age Count Plot')\n",
    "\n",
    "sns.countplot(x='trestbps', data=df, ax=axs[0, 1])\n",
    "axs[0, 1].set_title('Resting Blood Pressure Count Plot')\n",
    "\n",
    "sns.countplot(x='chol', data=df, ax=axs[1, 0])\n",
    "axs[1, 0].set_title('Cholesterol Count Plot')\n",
    "\n",
    "sns.countplot(x='thalch', data=df, ax=axs[1, 1])\n",
    "axs[1, 1].set_title('Max Heart Rate Achieved Count Plot')\n",
    "\n",
    "sns.countplot(x='oldpeak', data=df, ax=axs[2, 0])\n",
    "axs[2, 0].set_title('Oldpeak Count Plot')\n",
    "\n",
    "fig.delaxes(axs[2, 1])\n",
    "\n",
    "plt.tight_layout()\n",
    "plt.show()"
   ]
  },
  {
   "cell_type": "code",
   "execution_count": 25,
   "id": "76d0aa2a",
   "metadata": {
    "execution": {
     "iopub.execute_input": "2024-10-20T10:58:39.372201Z",
     "iopub.status.busy": "2024-10-20T10:58:39.371717Z",
     "iopub.status.idle": "2024-10-20T10:58:39.392900Z",
     "shell.execute_reply": "2024-10-20T10:58:39.391591Z"
    },
    "papermill": {
     "duration": 0.044308,
     "end_time": "2024-10-20T10:58:39.395779",
     "exception": false,
     "start_time": "2024-10-20T10:58:39.351471",
     "status": "completed"
    },
    "tags": []
   },
   "outputs": [
    {
     "data": {
      "text/html": [
       "<div>\n",
       "<style scoped>\n",
       "    .dataframe tbody tr th:only-of-type {\n",
       "        vertical-align: middle;\n",
       "    }\n",
       "\n",
       "    .dataframe tbody tr th {\n",
       "        vertical-align: top;\n",
       "    }\n",
       "\n",
       "    .dataframe thead th {\n",
       "        text-align: right;\n",
       "    }\n",
       "</style>\n",
       "<table border=\"1\" class=\"dataframe\">\n",
       "  <thead>\n",
       "    <tr style=\"text-align: right;\">\n",
       "      <th></th>\n",
       "      <th>age</th>\n",
       "      <th>sex</th>\n",
       "      <th>dataset</th>\n",
       "      <th>cp</th>\n",
       "      <th>trestbps</th>\n",
       "      <th>chol</th>\n",
       "      <th>fbs</th>\n",
       "      <th>restecg</th>\n",
       "      <th>thalch</th>\n",
       "      <th>exang</th>\n",
       "      <th>oldpeak</th>\n",
       "      <th>slope</th>\n",
       "      <th>ca</th>\n",
       "      <th>thal</th>\n",
       "      <th>num</th>\n",
       "    </tr>\n",
       "  </thead>\n",
       "  <tbody>\n",
       "    <tr>\n",
       "      <th>0</th>\n",
       "      <td>5</td>\n",
       "      <td>1</td>\n",
       "      <td>1</td>\n",
       "      <td>1</td>\n",
       "      <td>4</td>\n",
       "      <td>2</td>\n",
       "      <td>1</td>\n",
       "      <td>2</td>\n",
       "      <td>3</td>\n",
       "      <td>0</td>\n",
       "      <td>4</td>\n",
       "      <td>1</td>\n",
       "      <td>0</td>\n",
       "      <td>2</td>\n",
       "      <td>0</td>\n",
       "    </tr>\n",
       "    <tr>\n",
       "      <th>1</th>\n",
       "      <td>5</td>\n",
       "      <td>1</td>\n",
       "      <td>1</td>\n",
       "      <td>4</td>\n",
       "      <td>5</td>\n",
       "      <td>3</td>\n",
       "      <td>0</td>\n",
       "      <td>2</td>\n",
       "      <td>2</td>\n",
       "      <td>1</td>\n",
       "      <td>3</td>\n",
       "      <td>2</td>\n",
       "      <td>3</td>\n",
       "      <td>1</td>\n",
       "      <td>2</td>\n",
       "    </tr>\n",
       "    <tr>\n",
       "      <th>2</th>\n",
       "      <td>5</td>\n",
       "      <td>1</td>\n",
       "      <td>1</td>\n",
       "      <td>4</td>\n",
       "      <td>1</td>\n",
       "      <td>2</td>\n",
       "      <td>0</td>\n",
       "      <td>2</td>\n",
       "      <td>2</td>\n",
       "      <td>1</td>\n",
       "      <td>4</td>\n",
       "      <td>2</td>\n",
       "      <td>2</td>\n",
       "      <td>1</td>\n",
       "      <td>1</td>\n",
       "    </tr>\n",
       "    <tr>\n",
       "      <th>3</th>\n",
       "      <td>2</td>\n",
       "      <td>1</td>\n",
       "      <td>1</td>\n",
       "      <td>3</td>\n",
       "      <td>2</td>\n",
       "      <td>3</td>\n",
       "      <td>0</td>\n",
       "      <td>0</td>\n",
       "      <td>5</td>\n",
       "      <td>0</td>\n",
       "      <td>4</td>\n",
       "      <td>1</td>\n",
       "      <td>0</td>\n",
       "      <td>1</td>\n",
       "      <td>0</td>\n",
       "    </tr>\n",
       "    <tr>\n",
       "      <th>4</th>\n",
       "      <td>3</td>\n",
       "      <td>0</td>\n",
       "      <td>1</td>\n",
       "      <td>2</td>\n",
       "      <td>2</td>\n",
       "      <td>2</td>\n",
       "      <td>0</td>\n",
       "      <td>2</td>\n",
       "      <td>4</td>\n",
       "      <td>0</td>\n",
       "      <td>3</td>\n",
       "      <td>3</td>\n",
       "      <td>0</td>\n",
       "      <td>1</td>\n",
       "      <td>0</td>\n",
       "    </tr>\n",
       "  </tbody>\n",
       "</table>\n",
       "</div>"
      ],
      "text/plain": [
       "  age  sex  dataset  cp trestbps chol  fbs  restecg thalch  exang oldpeak  \\\n",
       "0   5    1        1   1        4    2    1        2      3      0       4   \n",
       "1   5    1        1   4        5    3    0        2      2      1       3   \n",
       "2   5    1        1   4        1    2    0        2      2      1       4   \n",
       "3   2    1        1   3        2    3    0        0      5      0       4   \n",
       "4   3    0        1   2        2    2    0        2      4      0       3   \n",
       "\n",
       "   slope  ca  thal  num  \n",
       "0      1   0     2    0  \n",
       "1      2   3     1    2  \n",
       "2      2   2     1    1  \n",
       "3      1   0     1    0  \n",
       "4      3   0     1    0  "
      ]
     },
     "execution_count": 25,
     "metadata": {},
     "output_type": "execute_result"
    }
   ],
   "source": [
    "# check df\n",
    "df.head()"
   ]
  },
  {
   "cell_type": "code",
   "execution_count": 26,
   "id": "d45074f0",
   "metadata": {
    "execution": {
     "iopub.execute_input": "2024-10-20T10:58:39.435247Z",
     "iopub.status.busy": "2024-10-20T10:58:39.434681Z",
     "iopub.status.idle": "2024-10-20T10:58:39.446992Z",
     "shell.execute_reply": "2024-10-20T10:58:39.445817Z"
    },
    "papermill": {
     "duration": 0.036789,
     "end_time": "2024-10-20T10:58:39.450868",
     "exception": false,
     "start_time": "2024-10-20T10:58:39.414079",
     "status": "completed"
    },
    "tags": []
   },
   "outputs": [
    {
     "data": {
      "text/plain": [
       "age         0\n",
       "sex         0\n",
       "dataset     0\n",
       "cp          0\n",
       "trestbps    0\n",
       "chol        0\n",
       "fbs         0\n",
       "restecg     0\n",
       "thalch      0\n",
       "exang       0\n",
       "oldpeak     0\n",
       "slope       0\n",
       "ca          0\n",
       "thal        0\n",
       "num         0\n",
       "dtype: int64"
      ]
     },
     "execution_count": 26,
     "metadata": {},
     "output_type": "execute_result"
    }
   ],
   "source": [
    "# check nans\n",
    "df.isnull().sum()"
   ]
  },
  {
   "cell_type": "code",
   "execution_count": 27,
   "id": "43672306",
   "metadata": {
    "execution": {
     "iopub.execute_input": "2024-10-20T10:58:39.490450Z",
     "iopub.status.busy": "2024-10-20T10:58:39.490026Z",
     "iopub.status.idle": "2024-10-20T10:58:39.502895Z",
     "shell.execute_reply": "2024-10-20T10:58:39.501559Z"
    },
    "papermill": {
     "duration": 0.035267,
     "end_time": "2024-10-20T10:58:39.505412",
     "exception": false,
     "start_time": "2024-10-20T10:58:39.470145",
     "status": "completed"
    },
    "tags": []
   },
   "outputs": [
    {
     "name": "stdout",
     "output_type": "stream",
     "text": [
      "num         1.000000\n",
      "ca          0.742812\n",
      "exang       0.420086\n",
      "oldpeak     0.411309\n",
      "cp          0.397896\n",
      "thal        0.337131\n",
      "age         0.322458\n",
      "dataset     0.276203\n",
      "sex         0.259342\n",
      "trestbps    0.170702\n",
      "fbs         0.129539\n",
      "restecg     0.123069\n",
      "chol       -0.101362\n",
      "thalch     -0.346611\n",
      "slope      -0.473169\n",
      "Name: num, dtype: float64\n"
     ]
    }
   ],
   "source": [
    "# feature correlation matrix in dataframe\n",
    "\n",
    "correlation_matrix = df.corr()\n",
    "num_corr = correlation_matrix['num'].sort_values(ascending=False)\n",
    "print(num_corr)"
   ]
  },
  {
   "cell_type": "code",
   "execution_count": 28,
   "id": "0c4f1d14",
   "metadata": {
    "execution": {
     "iopub.execute_input": "2024-10-20T10:58:39.544755Z",
     "iopub.status.busy": "2024-10-20T10:58:39.544294Z",
     "iopub.status.idle": "2024-10-20T10:58:39.552664Z",
     "shell.execute_reply": "2024-10-20T10:58:39.551345Z"
    },
    "papermill": {
     "duration": 0.031922,
     "end_time": "2024-10-20T10:58:39.555786",
     "exception": false,
     "start_time": "2024-10-20T10:58:39.523864",
     "status": "completed"
    },
    "tags": []
   },
   "outputs": [],
   "source": [
    "# Define features and target variable\n",
    "\n",
    "X = df.drop('num', axis=1)\n",
    "y = df['num']"
   ]
  },
  {
   "cell_type": "code",
   "execution_count": 29,
   "id": "a3379c80",
   "metadata": {
    "execution": {
     "iopub.execute_input": "2024-10-20T10:58:39.595363Z",
     "iopub.status.busy": "2024-10-20T10:58:39.594944Z",
     "iopub.status.idle": "2024-10-20T10:58:39.606706Z",
     "shell.execute_reply": "2024-10-20T10:58:39.605568Z"
    },
    "papermill": {
     "duration": 0.034369,
     "end_time": "2024-10-20T10:58:39.609486",
     "exception": false,
     "start_time": "2024-10-20T10:58:39.575117",
     "status": "completed"
    },
    "tags": []
   },
   "outputs": [],
   "source": [
    "# Split the data (80% train, 20% test)\n",
    "X_train, X_test, y_train, y_test = train_test_split(X, y, test_size=0.2, random_state=42, stratify=y)"
   ]
  },
  {
   "cell_type": "code",
   "execution_count": 30,
   "id": "d6fb684e",
   "metadata": {},
   "outputs": [
    {
     "name": "stderr",
     "output_type": "stream",
     "text": [
      "c:\\New folder\\envs\\tf_env\\lib\\site-packages\\sklearn\\linear_model\\_logistic.py:469: ConvergenceWarning: lbfgs failed to converge (status=1):\n",
      "STOP: TOTAL NO. of ITERATIONS REACHED LIMIT.\n",
      "\n",
      "Increase the number of iterations (max_iter) or scale the data as shown in:\n",
      "    https://scikit-learn.org/stable/modules/preprocessing.html\n",
      "Please also refer to the documentation for alternative solver options:\n",
      "    https://scikit-learn.org/stable/modules/linear_model.html#logistic-regression\n",
      "  n_iter_i = _check_optimize_result(\n"
     ]
    },
    {
     "name": "stdout",
     "output_type": "stream",
     "text": [
      "Model: Logistic Regression\n",
      "Accuracy: 0.7934782608695652\n",
      "              precision    recall  f1-score   support\n",
      "\n",
      "           0       0.89      0.89      0.89        82\n",
      "           1       0.75      0.77      0.76        53\n",
      "           2       0.85      0.50      0.63        22\n",
      "           3       0.59      0.76      0.67        21\n",
      "           4       0.71      0.83      0.77         6\n",
      "\n",
      "    accuracy                           0.79       184\n",
      "   macro avg       0.76      0.75      0.74       184\n",
      "weighted avg       0.80      0.79      0.79       184\n",
      "\n",
      "Model: Random Forest\n",
      "Accuracy: 0.8206521739130435\n",
      "              precision    recall  f1-score   support\n",
      "\n",
      "           0       0.91      0.89      0.90        82\n",
      "           1       0.84      0.77      0.80        53\n",
      "           2       0.68      0.68      0.68        22\n",
      "           3       0.68      0.90      0.78        21\n",
      "           4       0.60      0.50      0.55         6\n",
      "\n",
      "    accuracy                           0.82       184\n",
      "   macro avg       0.74      0.75      0.74       184\n",
      "weighted avg       0.83      0.82      0.82       184\n",
      "\n",
      "Model: SVM\n",
      "Accuracy: 0.7989130434782609\n",
      "              precision    recall  f1-score   support\n",
      "\n",
      "           0       0.90      0.88      0.89        82\n",
      "           1       0.76      0.77      0.77        53\n",
      "           2       0.79      0.68      0.73        22\n",
      "           3       0.61      0.81      0.69        21\n",
      "           4       0.67      0.33      0.44         6\n",
      "\n",
      "    accuracy                           0.80       184\n",
      "   macro avg       0.74      0.70      0.71       184\n",
      "weighted avg       0.81      0.80      0.80       184\n",
      "\n",
      "Model: KNN\n",
      "Accuracy: 0.717391304347826\n",
      "              precision    recall  f1-score   support\n",
      "\n",
      "           0       0.84      0.93      0.88        82\n",
      "           1       0.67      0.68      0.67        53\n",
      "           2       0.25      0.18      0.21        22\n",
      "           3       0.65      0.71      0.68        21\n",
      "           4       1.00      0.17      0.29         6\n",
      "\n",
      "    accuracy                           0.72       184\n",
      "   macro avg       0.68      0.53      0.55       184\n",
      "weighted avg       0.71      0.72      0.70       184\n",
      "\n",
      "Model: Gradient Boosting\n",
      "Accuracy: 0.8369565217391305\n",
      "              precision    recall  f1-score   support\n",
      "\n",
      "           0       0.96      0.88      0.92        82\n",
      "           1       0.81      0.83      0.82        53\n",
      "           2       0.68      0.68      0.68        22\n",
      "           3       0.72      0.86      0.78        21\n",
      "           4       0.62      0.83      0.71         6\n",
      "\n",
      "    accuracy                           0.84       184\n",
      "   macro avg       0.76      0.82      0.78       184\n",
      "weighted avg       0.85      0.84      0.84       184\n",
      "\n",
      "Model: Decision Tree\n",
      "Accuracy: 0.7608695652173914\n",
      "              precision    recall  f1-score   support\n",
      "\n",
      "           0       0.83      0.82      0.82        82\n",
      "           1       0.73      0.66      0.69        53\n",
      "           2       0.71      0.68      0.70        22\n",
      "           3       0.63      0.90      0.75        21\n",
      "           4       1.00      0.67      0.80         6\n",
      "\n",
      "    accuracy                           0.76       184\n",
      "   macro avg       0.78      0.75      0.75       184\n",
      "weighted avg       0.77      0.76      0.76       184\n",
      "\n",
      "Model: Naive Bayes\n",
      "Accuracy: 0.7717391304347826\n",
      "              precision    recall  f1-score   support\n",
      "\n",
      "           0       0.90      0.88      0.89        82\n",
      "           1       0.80      0.68      0.73        53\n",
      "           2       0.61      0.50      0.55        22\n",
      "           3       0.56      0.86      0.68        21\n",
      "           4       0.56      0.83      0.67         6\n",
      "\n",
      "    accuracy                           0.77       184\n",
      "   macro avg       0.69      0.75      0.70       184\n",
      "weighted avg       0.79      0.77      0.77       184\n",
      "\n"
     ]
    }
   ],
   "source": [
    "from sklearn.svm import SVC\n",
    "from sklearn.neighbors import KNeighborsClassifier\n",
    "from sklearn.tree import DecisionTreeClassifier\n",
    "from sklearn.naive_bayes import GaussianNB\n",
    "\n",
    "# Define ML models\n",
    "ml_models = {\n",
    "    \"Logistic Regression\": LogisticRegression(),\n",
    "    \"Random Forest\": RandomForestClassifier(),\n",
    "    \"SVM\": SVC(),\n",
    "    \"KNN\": KNeighborsClassifier(),\n",
    "    \"Gradient Boosting\": GradientBoostingClassifier(),\n",
    "    \"Decision Tree\": DecisionTreeClassifier(),\n",
    "    \"Naive Bayes\": GaussianNB()\n",
    "}\n",
    "\n",
    "# Train and evaluate each model\n",
    "for name, model in ml_models.items():\n",
    "    model.fit(X_train, y_train)\n",
    "    y_pred = model.predict(X_test)\n",
    "    print(f\"Model: {name}\")\n",
    "    print(\"Accuracy:\", accuracy_score(y_test, y_pred))\n",
    "    print(classification_report(y_test, y_pred))\n",
    "    \n",
    "\n",
    "   \n",
    " "
   ]
  },
  {
   "cell_type": "code",
   "execution_count": 31,
   "id": "ddc54d5a",
   "metadata": {},
   "outputs": [
    {
     "name": "stderr",
     "output_type": "stream",
     "text": [
      "c:\\New folder\\envs\\tf_env\\lib\\site-packages\\sklearn\\linear_model\\_logistic.py:469: ConvergenceWarning: lbfgs failed to converge (status=1):\n",
      "STOP: TOTAL NO. of ITERATIONS REACHED LIMIT.\n",
      "\n",
      "Increase the number of iterations (max_iter) or scale the data as shown in:\n",
      "    https://scikit-learn.org/stable/modules/preprocessing.html\n",
      "Please also refer to the documentation for alternative solver options:\n",
      "    https://scikit-learn.org/stable/modules/linear_model.html#logistic-regression\n",
      "  n_iter_i = _check_optimize_result(\n"
     ]
    },
    {
     "name": "stdout",
     "output_type": "stream",
     "text": [
      "Model: Logistic Regression\n",
      "              precision    recall  f1-score   support\n",
      "\n",
      "           0       0.89      0.89      0.89        82\n",
      "           1       0.75      0.77      0.76        53\n",
      "           2       0.85      0.50      0.63        22\n",
      "           3       0.59      0.76      0.67        21\n",
      "           4       0.71      0.83      0.77         6\n",
      "\n",
      "    accuracy                           0.79       184\n",
      "   macro avg       0.76      0.75      0.74       184\n",
      "weighted avg       0.80      0.79      0.79       184\n",
      "\n",
      "Model: Random Forest\n",
      "              precision    recall  f1-score   support\n",
      "\n",
      "           0       0.95      0.89      0.92        82\n",
      "           1       0.81      0.81      0.81        53\n",
      "           2       0.70      0.73      0.71        22\n",
      "           3       0.76      0.90      0.83        21\n",
      "           4       0.83      0.83      0.83         6\n",
      "\n",
      "    accuracy                           0.85       184\n",
      "   macro avg       0.81      0.83      0.82       184\n",
      "weighted avg       0.85      0.85      0.85       184\n",
      "\n",
      "Model: SVM\n",
      "              precision    recall  f1-score   support\n",
      "\n",
      "           0       0.90      0.88      0.89        82\n",
      "           1       0.76      0.77      0.77        53\n",
      "           2       0.79      0.68      0.73        22\n",
      "           3       0.61      0.81      0.69        21\n",
      "           4       0.67      0.33      0.44         6\n",
      "\n",
      "    accuracy                           0.80       184\n",
      "   macro avg       0.74      0.70      0.71       184\n",
      "weighted avg       0.81      0.80      0.80       184\n",
      "\n",
      "Model: KNN\n",
      "              precision    recall  f1-score   support\n",
      "\n",
      "           0       0.84      0.93      0.88        82\n",
      "           1       0.67      0.68      0.67        53\n",
      "           2       0.25      0.18      0.21        22\n",
      "           3       0.65      0.71      0.68        21\n",
      "           4       1.00      0.17      0.29         6\n",
      "\n",
      "    accuracy                           0.72       184\n",
      "   macro avg       0.68      0.53      0.55       184\n",
      "weighted avg       0.71      0.72      0.70       184\n",
      "\n",
      "Model: Gradient Boosting\n",
      "              precision    recall  f1-score   support\n",
      "\n",
      "           0       0.96      0.88      0.92        82\n",
      "           1       0.81      0.83      0.82        53\n",
      "           2       0.68      0.68      0.68        22\n",
      "           3       0.72      0.86      0.78        21\n",
      "           4       0.62      0.83      0.71         6\n",
      "\n",
      "    accuracy                           0.84       184\n",
      "   macro avg       0.76      0.82      0.78       184\n",
      "weighted avg       0.85      0.84      0.84       184\n",
      "\n",
      "Model: Decision Tree\n",
      "              precision    recall  f1-score   support\n",
      "\n",
      "           0       0.84      0.82      0.83        82\n",
      "           1       0.73      0.66      0.69        53\n",
      "           2       0.76      0.73      0.74        22\n",
      "           3       0.67      0.95      0.78        21\n",
      "           4       0.80      0.67      0.73         6\n",
      "\n",
      "    accuracy                           0.77       184\n",
      "   macro avg       0.76      0.76      0.76       184\n",
      "weighted avg       0.78      0.77      0.77       184\n",
      "\n",
      "Model: Naive Bayes\n",
      "              precision    recall  f1-score   support\n",
      "\n",
      "           0       0.90      0.88      0.89        82\n",
      "           1       0.80      0.68      0.73        53\n",
      "           2       0.61      0.50      0.55        22\n",
      "           3       0.56      0.86      0.68        21\n",
      "           4       0.56      0.83      0.67         6\n",
      "\n",
      "    accuracy                           0.77       184\n",
      "   macro avg       0.69      0.75      0.70       184\n",
      "weighted avg       0.79      0.77      0.77       184\n",
      "\n",
      "\n",
      "Final Model Performance Metrics:\n",
      "                 Model  Accuracy    Recall  Precision  F1-Score\n",
      "0  Logistic Regression  0.793478  0.751813   0.757746  0.742794\n",
      "1        Random Forest  0.847826  0.833387   0.809672  0.820018\n",
      "2                  SVM  0.798913  0.695262   0.744508  0.705055\n",
      "3                  KNN  0.717391  0.533769   0.682657  0.546935\n",
      "4    Gradient Boosting  0.836957  0.816106   0.760327  0.783668\n",
      "5        Decision Tree  0.771739  0.764754   0.759048  0.755200\n",
      "6          Naive Bayes  0.771739  0.749554   0.685833  0.703899\n"
     ]
    }
   ],
   "source": [
    "import pandas as pd\n",
    "from sklearn.linear_model import LogisticRegression\n",
    "from sklearn.ensemble import RandomForestClassifier, GradientBoostingClassifier\n",
    "from sklearn.svm import SVC\n",
    "from sklearn.neighbors import KNeighborsClassifier\n",
    "from sklearn.tree import DecisionTreeClassifier\n",
    "from sklearn.naive_bayes import GaussianNB\n",
    "from sklearn.metrics import accuracy_score, precision_score, recall_score, f1_score, classification_report\n",
    "\n",
    "# Define ML models\n",
    "ml_models = {\n",
    "    \"Logistic Regression\": LogisticRegression(),\n",
    "    \"Random Forest\": RandomForestClassifier(),\n",
    "    \"SVM\": SVC(),\n",
    "    \"KNN\": KNeighborsClassifier(),\n",
    "    \"Gradient Boosting\": GradientBoostingClassifier(),\n",
    "    \"Decision Tree\": DecisionTreeClassifier(),\n",
    "    \"Naive Bayes\": GaussianNB()\n",
    "}\n",
    "\n",
    "# Initialize a list to store evaluation metrics\n",
    "results = []\n",
    "\n",
    "# Train and evaluate each model\n",
    "for name, model in ml_models.items():\n",
    "    model.fit(X_train, y_train)\n",
    "    y_pred = model.predict(X_test)\n",
    "\n",
    "    # Calculate evaluation metrics\n",
    "    accuracy = accuracy_score(y_test, y_pred)\n",
    "    recall = recall_score(y_test, y_pred, average='macro')\n",
    "    precision = precision_score(y_test, y_pred, average='macro')\n",
    "    f1 = f1_score(y_test, y_pred, average='macro')\n",
    "\n",
    "    # Append results\n",
    "    results.append([name, accuracy, recall, precision, f1])\n",
    "\n",
    "    # Print classification report\n",
    "    print(f\"Model: {name}\")\n",
    "    print(classification_report(y_test, y_pred))\n",
    "\n",
    "# Create DataFrame to display results\n",
    "df_results = pd.DataFrame(results, columns=[\"Model\", \"Accuracy\", \"Recall\", \"Precision\", \"F1-Score\"])\n",
    "print(\"\\nFinal Model Performance Metrics:\")\n",
    "print(df_results)\n"
   ]
  },
  {
   "cell_type": "code",
   "execution_count": null,
   "id": "e10bd374",
   "metadata": {},
   "outputs": [],
   "source": []
  }
 ],
 "metadata": {
  "kaggle": {
   "accelerator": "none",
   "dataSources": [
    {
     "datasetId": 888463,
     "sourceId": 1508992,
     "sourceType": "datasetVersion"
    }
   ],
   "dockerImageVersionId": 30786,
   "isGpuEnabled": false,
   "isInternetEnabled": true,
   "language": "python",
   "sourceType": "notebook"
  },
  "kernelspec": {
   "display_name": "tf_env",
   "language": "python",
   "name": "python3"
  },
  "language_info": {
   "codemirror_mode": {
    "name": "ipython",
    "version": 3
   },
   "file_extension": ".py",
   "mimetype": "text/x-python",
   "name": "python",
   "nbconvert_exporter": "python",
   "pygments_lexer": "ipython3",
   "version": "3.9.19"
  },
  "papermill": {
   "default_parameters": {},
   "duration": 1016.827358,
   "end_time": "2024-10-20T11:15:06.328329",
   "environment_variables": {},
   "exception": null,
   "input_path": "__notebook__.ipynb",
   "output_path": "__notebook__.ipynb",
   "parameters": {},
   "start_time": "2024-10-20T10:58:09.500971",
   "version": "2.6.0"
  }
 },
 "nbformat": 4,
 "nbformat_minor": 5
}
